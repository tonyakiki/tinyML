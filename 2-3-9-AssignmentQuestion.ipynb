{
  "cells": [
    {
      "cell_type": "markdown",
      "metadata": {
        "id": "iiVBUpuHXEtw"
      },
      "source": [
        "# Create a CNN to classify Cifar-10\n",
        "\n",
        "Learn about Cifar-10 here: https://www.cs.toronto.edu/~kriz/cifar.html\n",
        "\n",
        "In class you saw how to build a Convolutional Neural Network that classified Fashion MNIST. Take what you learned to build a CNN that recognizes the 10 classes of CIFAR. It will be a similar network, but there are some key differences you'll need to take into account.\n",
        "\n",
        "First, while MNIST were 28x28 monochome images (1 color channel), CIFAR are 32x32 color images (3 color channels).\n",
        "\n",
        "Second, MNIST images are simple, containing just the object, centered in the image, with no background. CIFAR ones can have the object with a background -- for example airplanes might have a cloudy sky behind them! As such you should expect your accuracy to be a bit lower.\n",
        "\n",
        "We start by setting up the problem for you."
      ]
    },
    {
      "cell_type": "code",
      "execution_count": 1,
      "metadata": {
        "id": "6OQ_tVTaU3oo",
        "colab": {
          "base_uri": "https://localhost:8080/"
        },
        "outputId": "21e5a191-9cae-4492-9b23-7b64be5756e8"
      },
      "outputs": [
        {
          "output_type": "stream",
          "name": "stdout",
          "text": [
            "Downloading data from https://www.cs.toronto.edu/~kriz/cifar-10-python.tar.gz\n",
            "170498071/170498071 [==============================] - 3s 0us/step\n"
          ]
        }
      ],
      "source": [
        "import tensorflow as tf\n",
        "\n",
        "from tensorflow.keras import datasets, layers, models\n",
        "import matplotlib.pyplot as plt\n",
        "\n",
        "(train_images, train_labels), (test_images, test_labels) = datasets.cifar10.load_data()\n",
        "\n",
        "# Normalize pixel values to be between 0 and 1\n",
        "train_images = train_images / 255.0\n",
        "test_images = test_images / 255.0"
      ]
    },
    {
      "cell_type": "markdown",
      "metadata": {
        "id": "a8Tg2myAXyBG"
      },
      "source": [
        "We then definte some of the model for you but leave most of it for you to fill in!\n",
        "\n",
        "*A hint: your model may want to learn some high level features and then classify them.*"
      ]
    },
    {
      "cell_type": "code",
      "execution_count": 5,
      "metadata": {
        "id": "law2hNzdVA16"
      },
      "outputs": [],
      "source": [
        "# FIRST_LAYER = layers.Conv2D(64, (3,3), activation='relu', input_shape=(32, 32, 3))#YOUR CODE HERE#\n",
        "# HIDDEN_LAYER_TYPE_1 = layers.MaxPooling2D(2, 2)#YOUR CODE HERE#\n",
        "# HIDDEN_LAYER_TYPE_2 = layers.Conv2D(64, (3,3), activation='relu')#YOUR CODE HERE#\n",
        "# HIDDEN_LAYER_TYPE_3 = layers.MaxPooling2D(2, 2)#YOUR CODE HERE#\n",
        "# HIDDEN_LAYER_TYPE_4 = layers.Flatten()#YOUR CODE HERE#\n",
        "# HIDDEN_LAYER_TYPE_5 = layers.Dense(20, activation='relu')#YOUR CODE HERE#\n",
        "# LAST_LAYER = layers.Dense(10, activation='softmax')#YOUR CODE HERE#\n",
        "\n",
        "FIRST_LAYER = layers.Conv2D(32, (3, 3), activation='relu', input_shape=(32, 32, 3))\n",
        "\n",
        "HIDDEN_LAYER_TYPE_1 = layers.MaxPooling2D((2, 2))\n",
        "\n",
        "HIDDEN_LAYER_TYPE_2 = layers.Conv2D(64, (3, 3), activation='relu')\n",
        "\n",
        "HIDDEN_LAYER_TYPE_3 = layers.MaxPooling2D((2, 2))\n",
        "\n",
        "HIDDEN_LAYER_TYPE_4 = layers.Conv2D(64, (3, 3), activation='relu')\n",
        "\n",
        "HIDDEN_LAYER_TYPE_5 = layers.Dense(64, activation='relu')\n",
        "\n",
        "LAST_LAYER = layers.Dense(10)\n",
        "\n",
        "model = models.Sequential([\n",
        "       FIRST_LAYER,\n",
        "       HIDDEN_LAYER_TYPE_1,\n",
        "       HIDDEN_LAYER_TYPE_2,\n",
        "       HIDDEN_LAYER_TYPE_3,\n",
        "       HIDDEN_LAYER_TYPE_4,\n",
        "       layers.Flatten(),\n",
        "       HIDDEN_LAYER_TYPE_5,\n",
        "       LAST_LAYER,\n",
        "])"
      ]
    },
    {
      "cell_type": "markdown",
      "metadata": {
        "id": "mvPw_NHeXyBH"
      },
      "source": [
        "You then need to define loss function. And you can then train your model. Once training is done you'll see a plot of training and validation accuracy. You'll know you have a reasonable model with a reasonable loss funciton if your final training accuracy ends up in the 70s (or possibly higher).\n",
        "\n",
        "*A hint: your model may want to learn different categories.*"
      ]
    },
    {
      "cell_type": "code",
      "execution_count": 6,
      "metadata": {
        "id": "Dxq2JU7dVIEX",
        "colab": {
          "base_uri": "https://localhost:8080/",
          "height": 1000
        },
        "outputId": "e7df6b84-f546-4d84-e9f3-27f05ad1cb02"
      },
      "outputs": [
        {
          "output_type": "stream",
          "name": "stdout",
          "text": [
            "Epoch 1/20\n",
            "1563/1563 [==============================] - 79s 50ms/step - loss: 2.0891 - accuracy: 0.2340 - val_loss: 1.8847 - val_accuracy: 0.3342\n",
            "Epoch 2/20\n",
            "1563/1563 [==============================] - 76s 49ms/step - loss: 1.6987 - accuracy: 0.3883 - val_loss: 1.7118 - val_accuracy: 0.3977\n",
            "Epoch 3/20\n",
            "1563/1563 [==============================] - 74s 48ms/step - loss: 1.4907 - accuracy: 0.4652 - val_loss: 1.4177 - val_accuracy: 0.4918\n",
            "Epoch 4/20\n",
            "1563/1563 [==============================] - 77s 49ms/step - loss: 1.3720 - accuracy: 0.5073 - val_loss: 1.3350 - val_accuracy: 0.5175\n",
            "Epoch 5/20\n",
            "1563/1563 [==============================] - 75s 48ms/step - loss: 1.2852 - accuracy: 0.5426 - val_loss: 1.3027 - val_accuracy: 0.5414\n",
            "Epoch 6/20\n",
            "1563/1563 [==============================] - 79s 51ms/step - loss: 1.2135 - accuracy: 0.5706 - val_loss: 1.1782 - val_accuracy: 0.5837\n",
            "Epoch 7/20\n",
            "1563/1563 [==============================] - 76s 48ms/step - loss: 1.1518 - accuracy: 0.5940 - val_loss: 1.1754 - val_accuracy: 0.5866\n",
            "Epoch 8/20\n",
            "1563/1563 [==============================] - 78s 50ms/step - loss: 1.0974 - accuracy: 0.6144 - val_loss: 1.1521 - val_accuracy: 0.5897\n",
            "Epoch 9/20\n",
            "1563/1563 [==============================] - 74s 48ms/step - loss: 1.0486 - accuracy: 0.6334 - val_loss: 1.0436 - val_accuracy: 0.6313\n",
            "Epoch 10/20\n",
            "1563/1563 [==============================] - 75s 48ms/step - loss: 1.0062 - accuracy: 0.6483 - val_loss: 1.0712 - val_accuracy: 0.6244\n",
            "Epoch 11/20\n",
            "1563/1563 [==============================] - 78s 50ms/step - loss: 0.9679 - accuracy: 0.6619 - val_loss: 1.0101 - val_accuracy: 0.6423\n",
            "Epoch 12/20\n",
            "1563/1563 [==============================] - 78s 50ms/step - loss: 0.9283 - accuracy: 0.6773 - val_loss: 1.0675 - val_accuracy: 0.6285\n",
            "Epoch 13/20\n",
            "1563/1563 [==============================] - 79s 50ms/step - loss: 0.8973 - accuracy: 0.6896 - val_loss: 0.9745 - val_accuracy: 0.6640\n",
            "Epoch 14/20\n",
            "1563/1563 [==============================] - 79s 50ms/step - loss: 0.8650 - accuracy: 0.6979 - val_loss: 1.0046 - val_accuracy: 0.6503\n",
            "Epoch 15/20\n",
            "1563/1563 [==============================] - 78s 50ms/step - loss: 0.8344 - accuracy: 0.7093 - val_loss: 0.9771 - val_accuracy: 0.6581\n",
            "Epoch 16/20\n",
            "1563/1563 [==============================] - 80s 51ms/step - loss: 0.8069 - accuracy: 0.7204 - val_loss: 0.9443 - val_accuracy: 0.6721\n",
            "Epoch 17/20\n",
            "1563/1563 [==============================] - 79s 51ms/step - loss: 0.7821 - accuracy: 0.7299 - val_loss: 1.0304 - val_accuracy: 0.6507\n",
            "Epoch 18/20\n",
            "1563/1563 [==============================] - 78s 50ms/step - loss: 0.7543 - accuracy: 0.7369 - val_loss: 0.9977 - val_accuracy: 0.6649\n",
            "Epoch 19/20\n",
            "1563/1563 [==============================] - 80s 51ms/step - loss: 0.7283 - accuracy: 0.7451 - val_loss: 0.9416 - val_accuracy: 0.6775\n",
            "Epoch 20/20\n",
            "1563/1563 [==============================] - 83s 53ms/step - loss: 0.7061 - accuracy: 0.7544 - val_loss: 0.9448 - val_accuracy: 0.6816\n"
          ]
        },
        {
          "output_type": "display_data",
          "data": {
            "text/plain": [
              "<Figure size 640x480 with 1 Axes>"
            ],
            "image/png": "[encoded data removed]"
          },
          "metadata": {}
        }
      ],
      "source": [
        "# LOSS = \"sparse_categorical_crossentropy\"#YOUR CODE HERE#\n",
        "LOSS = tf.keras.losses.SparseCategoricalCrossentropy(from_logits=True)\n",
        "NUM_EPOCHS = 20 #You can change this value if you like to experiment with it to get better accuracy\n",
        "\n",
        "# Compile the model\n",
        "model.compile(optimizer='sgd',\n",
        "              loss=LOSS,\n",
        "              metrics=['accuracy'])\n",
        "\n",
        "# Fit the model\n",
        "history = model.fit(train_images, train_labels, epochs=NUM_EPOCHS,\n",
        "                    validation_data=(test_images, test_labels))\n",
        "\n",
        "# summarize history for accuracy\n",
        "plt.plot(history.history['accuracy'])\n",
        "plt.plot(history.history['val_accuracy'])\n",
        "plt.title('model accuracy')\n",
        "plt.ylabel('accuracy')\n",
        "plt.xlabel('epoch')\n",
        "plt.legend(['train', 'test'], loc='upper left')\n",
        "plt.xlim([0,NUM_EPOCHS])\n",
        "plt.ylim([0.4,1.0])\n",
        "plt.show()"
      ]
    },
    {
      "cell_type": "markdown",
      "metadata": {
        "id": "Eeq4lWqkXyBI"
      },
      "source": [
        "Finally, pick a better optimizer. And re-train your model. You'll know you have a reasonable model with a reasonable loss funciton and optimizer if your final training accuracy ends up in the 80s (or possibly higher).\n",
        "\n",
        "*A hint: your model may want to learn adaptively.*"
      ]
    },
    {
      "cell_type": "code",
      "execution_count": null,
      "metadata": {
        "colab": {
          "base_uri": "https://localhost:8080/"
        },
        "id": "1bsusk12XyBI",
        "outputId": "fb23967d-476a-44ef-aec8-30cd5b7a46f3"
      },
      "outputs": [
        {
          "output_type": "stream",
          "name": "stdout",
          "text": [
            "Epoch 1/20\n",
            "1563/1563 [==============================] - 82s 51ms/step - loss: 0.8852 - accuracy: 0.6903 - val_loss: 0.9606 - val_accuracy: 0.6736\n",
            "Epoch 2/20\n",
            " 336/1563 [=====>........................] - ETA: 58s - loss: 0.7750 - accuracy: 0.7294"
          ]
        }
      ],
      "source": [
        "OPTIMIZER = \"adam\"#YOUR CODE HERE#\n",
        "\n",
        "# Compile the model\n",
        "model.compile(optimizer=OPTIMIZER,\n",
        "              loss=LOSS,\n",
        "              metrics=['accuracy'])\n",
        "\n",
        "# Fit the model\n",
        "history = model.fit(train_images, train_labels, epochs=NUM_EPOCHS,\n",
        "                    validation_data=(test_images, test_labels))\n",
        "\n",
        "# summarize history for accuracy\n",
        "plt.plot(history.history['accuracy'])\n",
        "plt.plot(history.history['val_accuracy'])\n",
        "plt.title('model accuracy')\n",
        "plt.ylabel('accuracy')\n",
        "plt.xlabel('epoch')\n",
        "plt.legend(['train', 'test'], loc='upper left')\n",
        "plt.xlim([0,NUM_EPOCHS])\n",
        "plt.ylim([0.4,1.0])\n",
        "plt.show()"
      ]
    }
  ],
  "metadata": {
    "accelerator": "GPU",
    "colab": {
      "name": "2-3-9-Question.ipynb",
      "provenance": []
    },
    "kernelspec": {
      "display_name": "Python 3",
      "language": "python",
      "name": "python3"
    },
    "language_info": {
      "codemirror_mode": {
        "name": "ipython",
        "version": 3
      },
      "file_extension": ".py",
      "mimetype": "text/x-python",
      "name": "python",
      "nbconvert_exporter": "python",
      "pygments_lexer": "ipython3",
      "version": "3.6.9"
    }
  },
  "nbformat": 4,
  "nbformat_minor": 0
}