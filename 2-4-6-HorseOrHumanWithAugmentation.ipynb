{
  "cells": [
    {
      "cell_type": "code",
      "execution_count": 1,
      "metadata": {
        "id": "zX4Kg8DUTKWO"
      },
      "outputs": [],
      "source": [
        "#@title Licensed under the Apache License, Version 2.0 (the \"License\");\n",
        "# you may not use this file except in compliance with the License.\n",
        "# You may obtain a copy of the License at\n",
        "#\n",
        "# https://www.apache.org/licenses/LICENSE-2.0\n",
        "#\n",
        "# Unless required by applicable law or agreed to in writing, software\n",
        "# distributed under the License is distributed on an \"AS IS\" BASIS,\n",
        "# WITHOUT WARRANTIES OR CONDITIONS OF ANY KIND, either express or implied.\n",
        "# See the License for the specific language governing permissions and\n",
        "# limitations under the License."
      ]
    },
    {
      "cell_type": "markdown",
      "metadata": {
        "id": "30GC2JEwL2xj"
      },
      "source": [
        "## Again start by downloading the neccessary data into the Colab Instance"
      ]
    },
    {
      "cell_type": "code",
      "execution_count": 2,
      "metadata": {
        "id": "RXZT2UsyIVe_",
        "outputId": "9b45578f-77a8-49c2-c735-d0e00263f12d",
        "colab": {
          "base_uri": "https://localhost:8080/"
        }
      },
      "outputs": [
        {
          "output_type": "stream",
          "name": "stdout",
          "text": [
            "--2023-08-24 08:29:26--  https://storage.googleapis.com/learning-datasets/horse-or-human.zip\n",
            "Resolving storage.googleapis.com (storage.googleapis.com)... 172.217.214.128, 108.177.111.128, 172.253.119.128, ...\n",
            "Connecting to storage.googleapis.com (storage.googleapis.com)|172.217.214.128|:443... connected.\n",
            "HTTP request sent, awaiting response... 200 OK\n",
            "Length: 149574867 (143M) [application/zip]\n",
            "Saving to: ‘/tmp/horse-or-human.zip’\n",
            "\n",
            "/tmp/horse-or-human 100%[===================>] 142.65M   225MB/s    in 0.6s    \n",
            "\n",
            "2023-08-24 08:29:27 (225 MB/s) - ‘/tmp/horse-or-human.zip’ saved [149574867/149574867]\n",
            "\n",
            "--2023-08-24 08:29:27--  https://storage.googleapis.com/learning-datasets/validation-horse-or-human.zip\n",
            "Resolving storage.googleapis.com (storage.googleapis.com)... 172.217.214.128, 108.177.111.128, 172.253.119.128, ...\n",
            "Connecting to storage.googleapis.com (storage.googleapis.com)|172.217.214.128|:443... connected.\n",
            "HTTP request sent, awaiting response... 200 OK\n",
            "Length: 11480187 (11M) [application/zip]\n",
            "Saving to: ‘/tmp/validation-horse-or-human.zip’\n",
            "\n",
            "/tmp/validation-hor 100%[===================>]  10.95M  --.-KB/s    in 0.07s   \n",
            "\n",
            "2023-08-24 08:29:27 (152 MB/s) - ‘/tmp/validation-horse-or-human.zip’ saved [11480187/11480187]\n",
            "\n"
          ]
        }
      ],
      "source": [
        "!wget --no-check-certificate \\\n",
        "    https://storage.googleapis.com/learning-datasets/horse-or-human.zip \\\n",
        "    -O /tmp/horse-or-human.zip\n",
        "\n",
        "!wget --no-check-certificate \\\n",
        "    https://storage.googleapis.com/learning-datasets/validation-horse-or-human.zip \\\n",
        "    -O /tmp/validation-horse-or-human.zip"
      ]
    },
    {
      "cell_type": "code",
      "execution_count": 3,
      "metadata": {
        "id": "PLy3pthUS0D2"
      },
      "outputs": [],
      "source": [
        "import os\n",
        "import zipfile\n",
        "\n",
        "local_zip = '/tmp/horse-or-human.zip'\n",
        "zip_ref = zipfile.ZipFile(local_zip, 'r')\n",
        "zip_ref.extractall('/tmp/horse-or-human')\n",
        "local_zip = '/tmp/validation-horse-or-human.zip'\n",
        "zip_ref = zipfile.ZipFile(local_zip, 'r')\n",
        "zip_ref.extractall('/tmp/validation-horse-or-human')\n",
        "zip_ref.close()"
      ]
    },
    {
      "cell_type": "code",
      "execution_count": 4,
      "metadata": {
        "id": "E_-A0q1QL2xk",
        "outputId": "fdb4c2a3-9400-4de5-e671-daf1efb52fcb",
        "colab": {
          "base_uri": "https://localhost:8080/"
        }
      },
      "outputs": [
        {
          "output_type": "stream",
          "name": "stdout",
          "text": [
            "['horse07-7.png', 'horse28-4.png', 'horse19-4.png', 'horse50-2.png', 'horse04-5.png', 'horse47-0.png', 'horse02-3.png', 'horse07-6.png', 'horse20-9.png', 'horse29-1.png']\n",
            "['human06-13.png', 'human02-18.png', 'human13-00.png', 'human09-24.png', 'human09-17.png', 'human07-07.png', 'human10-06.png', 'human05-22.png', 'human05-00.png', 'human06-16.png']\n",
            "['horse3-521.png', 'horse5-100.png', 'horse6-004.png', 'horse5-458.png', 'horse5-550.png', 'horse2-136.png', 'horse4-588.png', 'horse5-259.png', 'horse3-469.png', 'horse6-161.png']\n",
            "['valhuman03-23.png', 'valhuman02-15.png', 'valhuman02-02.png', 'valhuman04-13.png', 'valhuman01-22.png', 'valhuman04-09.png', 'valhuman05-06.png', 'valhuman05-24.png', 'valhuman04-05.png', 'valhuman05-16.png']\n"
          ]
        }
      ],
      "source": [
        "# Directory with our training horse pictures\n",
        "train_horse_dir = os.path.join('/tmp/horse-or-human/horses')\n",
        "# Directory with our training human pictures\n",
        "train_human_dir = os.path.join('/tmp/horse-or-human/humans')\n",
        "# Directory with our training horse pictures\n",
        "validation_horse_dir = os.path.join('/tmp/validation-horse-or-human/horses')\n",
        "# Directory with our training human pictures\n",
        "validation_human_dir = os.path.join('/tmp/validation-horse-or-human/humans')\n",
        "train_horse_names = os.listdir('/tmp/horse-or-human/horses')\n",
        "print(train_horse_names[:10])\n",
        "train_human_names = os.listdir('/tmp/horse-or-human/humans')\n",
        "print(train_human_names[:10])\n",
        "validation_horse_hames = os.listdir('/tmp/validation-horse-or-human/horses')\n",
        "print(validation_horse_hames[:10])\n",
        "validation_human_names = os.listdir('/tmp/validation-horse-or-human/humans')\n",
        "print(validation_human_names[:10])"
      ]
    },
    {
      "cell_type": "code",
      "execution_count": 5,
      "metadata": {
        "id": "qvfZg3LQbD-5"
      },
      "outputs": [],
      "source": [
        "import sys\n",
        "import tensorflow as tf\n",
        "\n",
        "# This script requires TensorFlow 2 and Python 3.\n",
        "if tf.__version__.split('.')[0] != '2':\n",
        "    raise Exception((f\"The script is developed and tested for tensorflow 2. \"\n",
        "                     f\"Current version: {tf.__version__}\"))\n",
        "\n",
        "if sys.version_info.major < 3:\n",
        "    raise Exception((f\"The script is developed and tested for Python 3. \"\n",
        "                     f\"Current version: {sys.version_info.major}\"))"
      ]
    },
    {
      "cell_type": "markdown",
      "metadata": {
        "id": "2DFi8qSIL2xl"
      },
      "source": [
        "## Then again define your model and optimizer"
      ]
    },
    {
      "cell_type": "code",
      "execution_count": 6,
      "metadata": {
        "id": "PixZ2s5QbYQ3"
      },
      "outputs": [],
      "source": [
        "model = tf.keras.models.Sequential([\n",
        "    # Note the input shape is the desired size of the image 100x100 with 3 bytes color\n",
        "    # This is the first convolution\n",
        "    tf.keras.layers.Conv2D(32, (3,3), activation='relu', input_shape=(100, 100, 3)),\n",
        "    tf.keras.layers.MaxPooling2D(2, 2),\n",
        "    # The second convolution\n",
        "    tf.keras.layers.Conv2D(64, (3,3), activation='relu'),\n",
        "    tf.keras.layers.MaxPooling2D(2,2),\n",
        "    # The third convolution\n",
        "    tf.keras.layers.Conv2D(128, (3,3), activation='relu'),\n",
        "    tf.keras.layers.MaxPooling2D(2,2),\n",
        "    # The fourth convolution\n",
        "    tf.keras.layers.Conv2D(256, (3,3), activation='relu'),\n",
        "    tf.keras.layers.MaxPooling2D(2,2),\n",
        "    # Flatten the results to feed into a DNN\n",
        "    tf.keras.layers.Flatten(),\n",
        "    # 512 neuron hidden layer\n",
        "    tf.keras.layers.Dense(512, activation='relu'),\n",
        "    tf.keras.layers.Dense(256, activation='relu'),\n",
        "    # Only 1 output neuron. It will contain a value from 0-1 where 0 for 1 class ('horses') and 1 for the other ('humans')\n",
        "    tf.keras.layers.Dense(1, activation='sigmoid')\n",
        "])"
      ]
    },
    {
      "cell_type": "code",
      "execution_count": 7,
      "metadata": {
        "id": "FCO9TvtOPtH7",
        "outputId": "13cc2475-fa76-40ec-9e39-dfb46552652b",
        "colab": {
          "base_uri": "https://localhost:8080/"
        }
      },
      "outputs": [
        {
          "output_type": "stream",
          "name": "stdout",
          "text": [
            "Model: \"sequential\"\n",
            "_________________________________________________________________\n",
            " Layer (type)                Output Shape              Param #   \n",
            "=================================================================\n",
            " conv2d (Conv2D)             (None, 98, 98, 32)        896       \n",
            "                                                                 \n",
            " max_pooling2d (MaxPooling2D  (None, 49, 49, 32)       0         \n",
            " )                                                               \n",
            "                                                                 \n",
            " conv2d_1 (Conv2D)           (None, 47, 47, 64)        18496     \n",
            "                                                                 \n",
            " max_pooling2d_1 (MaxPooling  (None, 23, 23, 64)       0         \n",
            " 2D)                                                             \n",
            "                                                                 \n",
            " conv2d_2 (Conv2D)           (None, 21, 21, 128)       73856     \n",
            "                                                                 \n",
            " max_pooling2d_2 (MaxPooling  (None, 10, 10, 128)      0         \n",
            " 2D)                                                             \n",
            "                                                                 \n",
            " conv2d_3 (Conv2D)           (None, 8, 8, 256)         295168    \n",
            "                                                                 \n",
            " max_pooling2d_3 (MaxPooling  (None, 4, 4, 256)        0         \n",
            " 2D)                                                             \n",
            "                                                                 \n",
            " flatten (Flatten)           (None, 4096)              0         \n",
            "                                                                 \n",
            " dense (Dense)               (None, 512)               2097664   \n",
            "                                                                 \n",
            " dense_1 (Dense)             (None, 256)               131328    \n",
            "                                                                 \n",
            " dense_2 (Dense)             (None, 1)                 257       \n",
            "                                                                 \n",
            "=================================================================\n",
            "Total params: 2,617,665\n",
            "Trainable params: 2,617,665\n",
            "Non-trainable params: 0\n",
            "_________________________________________________________________\n",
            "None\n"
          ]
        }
      ],
      "source": [
        "print(model.summary())"
      ]
    },
    {
      "cell_type": "code",
      "execution_count": 8,
      "metadata": {
        "id": "8DHWhFP_uhq3",
        "outputId": "b4e036a4-0896-4ed2-aca8-bdb71ea2a376",
        "colab": {
          "base_uri": "https://localhost:8080/"
        }
      },
      "outputs": [
        {
          "output_type": "stream",
          "name": "stderr",
          "text": [
            "WARNING:absl:`lr` is deprecated in Keras optimizer, please use `learning_rate` or use the legacy optimizer, e.g.,tf.keras.optimizers.legacy.Adam.\n"
          ]
        }
      ],
      "source": [
        "from tensorflow.keras.optimizers import RMSprop\n",
        "optimizer = tf.keras.optimizers.Adam(lr=0.0001)\n",
        "model.compile(loss='binary_crossentropy',\n",
        "              optimizer=optimizer,\n",
        "              metrics=['acc'])"
      ]
    },
    {
      "cell_type": "markdown",
      "metadata": {
        "id": "wKYbRjx8L2xl"
      },
      "source": [
        "## Now when we organize the data into Generators note how we use many more kinds of Data Augmentation!"
      ]
    },
    {
      "cell_type": "code",
      "execution_count": 9,
      "metadata": {
        "id": "ClebU9NJg99G",
        "outputId": "7c17f30a-2570-464e-8ffb-ac6c677f47a8",
        "colab": {
          "base_uri": "https://localhost:8080/"
        }
      },
      "outputs": [
        {
          "output_type": "stream",
          "name": "stdout",
          "text": [
            "Found 1027 images belonging to 2 classes.\n",
            "Found 256 images belonging to 2 classes.\n"
          ]
        }
      ],
      "source": [
        "from tensorflow.keras.preprocessing.image import ImageDataGenerator\n",
        "\n",
        "# All images will be augmented wiht the full list of augmentation techniques below\n",
        "train_datagen = ImageDataGenerator(\n",
        "      rescale=1./255,\n",
        "      rotation_range=20,\n",
        "      width_shift_range=0.2,\n",
        "      height_shift_range=0.2,\n",
        "      shear_range=0.2,\n",
        "      zoom_range=0.2,\n",
        "      horizontal_flip=True,\n",
        "      fill_mode='nearest'\n",
        "      )\n",
        "\n",
        "# Flow training images in batches of 128 using train_datagen generator\n",
        "train_generator = train_datagen.flow_from_directory(\n",
        "        '/tmp/horse-or-human/',  # This is the source directory for training images\n",
        "        target_size=(100, 100),  # All images will be resized to 300x300\n",
        "        batch_size=128,\n",
        "        # Since we use binary_crossentropy loss, we need binary labels\n",
        "        class_mode='binary')\n",
        "\n",
        "validation_datagen = ImageDataGenerator(rescale=1./255)\n",
        "\n",
        "validation_generator = validation_datagen.flow_from_directory(\n",
        "        '/tmp/validation-horse-or-human',\n",
        "        target_size=(100, 100),\n",
        "        class_mode='binary')\n"
      ]
    },
    {
      "cell_type": "markdown",
      "metadata": {
        "id": "LcGH0D3CL2xm"
      },
      "source": [
        "## Train your model with the new augmented data\n",
        "Since we now have more data due to the data augmentation this training process will take a bit longer than the last time. However, you'll find that the results are much better!"
      ]
    },
    {
      "cell_type": "code",
      "execution_count": 10,
      "metadata": {
        "id": "Fb1_lgobv81m",
        "outputId": "c71010f3-f3c9-41ac-92a4-f47acdd8df2a",
        "colab": {
          "base_uri": "https://localhost:8080/"
        }
      },
      "outputs": [
        {
          "output_type": "stream",
          "name": "stdout",
          "text": [
            "Epoch 1/100\n",
            "8/8 [==============================] - 20s 902ms/step - loss: 0.6963 - acc: 0.5028 - val_loss: 0.6994 - val_acc: 0.5000\n",
            "Epoch 2/100\n",
            "8/8 [==============================] - 8s 1s/step - loss: 0.6912 - acc: 0.5128 - val_loss: 0.6792 - val_acc: 0.8516\n",
            "Epoch 3/100\n",
            "8/8 [==============================] - 8s 1s/step - loss: 0.6557 - acc: 0.6185 - val_loss: 0.6251 - val_acc: 0.6875\n",
            "Epoch 4/100\n",
            "8/8 [==============================] - 8s 1s/step - loss: 0.5847 - acc: 0.7030 - val_loss: 3.0475 - val_acc: 0.5000\n",
            "Epoch 5/100\n",
            "8/8 [==============================] - 8s 945ms/step - loss: 0.8329 - acc: 0.6073 - val_loss: 0.6378 - val_acc: 0.7070\n",
            "Epoch 6/100\n",
            "8/8 [==============================] - 8s 957ms/step - loss: 0.6501 - acc: 0.6085 - val_loss: 0.6280 - val_acc: 0.5352\n",
            "Epoch 7/100\n",
            "8/8 [==============================] - 10s 1s/step - loss: 0.6501 - acc: 0.6191 - val_loss: 0.6207 - val_acc: 0.6953\n",
            "Epoch 8/100\n",
            "8/8 [==============================] - 9s 1s/step - loss: 0.5799 - acc: 0.6897 - val_loss: 0.3751 - val_acc: 0.8516\n",
            "Epoch 9/100\n",
            "8/8 [==============================] - 8s 962ms/step - loss: 0.5328 - acc: 0.7475 - val_loss: 0.5808 - val_acc: 0.6367\n",
            "Epoch 10/100\n",
            "8/8 [==============================] - 7s 923ms/step - loss: 0.5226 - acc: 0.7264 - val_loss: 0.2842 - val_acc: 0.8867\n",
            "Epoch 11/100\n",
            "8/8 [==============================] - 7s 911ms/step - loss: 0.4076 - acc: 0.8176 - val_loss: 0.7583 - val_acc: 0.6992\n",
            "Epoch 12/100\n",
            "8/8 [==============================] - 8s 1s/step - loss: 0.5182 - acc: 0.8287 - val_loss: 3.1271 - val_acc: 0.5469\n",
            "Epoch 13/100\n",
            "8/8 [==============================] - 9s 1s/step - loss: 0.6186 - acc: 0.7186 - val_loss: 0.6098 - val_acc: 0.6328\n",
            "Epoch 14/100\n",
            "8/8 [==============================] - 8s 957ms/step - loss: 0.6046 - acc: 0.6897 - val_loss: 0.4098 - val_acc: 0.8594\n",
            "Epoch 15/100\n",
            "8/8 [==============================] - 9s 1s/step - loss: 0.5771 - acc: 0.7061 - val_loss: 0.2763 - val_acc: 0.9375\n",
            "Epoch 16/100\n",
            "8/8 [==============================] - 9s 1s/step - loss: 0.5110 - acc: 0.7230 - val_loss: 0.3506 - val_acc: 0.8672\n",
            "Epoch 17/100\n",
            "8/8 [==============================] - 8s 1s/step - loss: 0.4132 - acc: 0.8252 - val_loss: 0.2233 - val_acc: 0.9023\n",
            "Epoch 18/100\n",
            "8/8 [==============================] - 9s 1s/step - loss: 0.3870 - acc: 0.8098 - val_loss: 0.4465 - val_acc: 0.8320\n",
            "Epoch 19/100\n",
            "8/8 [==============================] - 8s 1s/step - loss: 0.3403 - acc: 0.8432 - val_loss: 0.7142 - val_acc: 0.7852\n",
            "Epoch 20/100\n",
            "8/8 [==============================] - 9s 1s/step - loss: 0.2596 - acc: 0.8936 - val_loss: 1.2413 - val_acc: 0.7305\n",
            "Epoch 21/100\n",
            "8/8 [==============================] - 8s 1s/step - loss: 0.3013 - acc: 0.8543 - val_loss: 1.6654 - val_acc: 0.5469\n",
            "Epoch 22/100\n",
            "8/8 [==============================] - 9s 1s/step - loss: 0.2257 - acc: 0.9004 - val_loss: 1.9192 - val_acc: 0.5977\n",
            "Epoch 23/100\n",
            "8/8 [==============================] - 8s 1s/step - loss: 0.1988 - acc: 0.9344 - val_loss: 1.6426 - val_acc: 0.6680\n",
            "Epoch 24/100\n",
            "8/8 [==============================] - 7s 916ms/step - loss: 0.2927 - acc: 0.8710 - val_loss: 1.3377 - val_acc: 0.5977\n",
            "Epoch 25/100\n",
            "8/8 [==============================] - 9s 1s/step - loss: 0.2635 - acc: 0.8865 - val_loss: 1.3608 - val_acc: 0.6016\n",
            "Epoch 26/100\n",
            "8/8 [==============================] - 8s 1s/step - loss: 0.2323 - acc: 0.9021 - val_loss: 1.1613 - val_acc: 0.6758\n",
            "Epoch 27/100\n",
            "8/8 [==============================] - 9s 1s/step - loss: 0.1761 - acc: 0.9229 - val_loss: 2.9619 - val_acc: 0.6055\n",
            "Epoch 28/100\n",
            "8/8 [==============================] - 8s 968ms/step - loss: 0.1237 - acc: 0.9499 - val_loss: 2.7738 - val_acc: 0.6562\n",
            "Epoch 29/100\n",
            "8/8 [==============================] - 8s 1s/step - loss: 0.3858 - acc: 0.8710 - val_loss: 0.5178 - val_acc: 0.8047\n",
            "Epoch 30/100\n",
            "8/8 [==============================] - 9s 1s/step - loss: 0.3482 - acc: 0.8320 - val_loss: 0.3888 - val_acc: 0.7773\n",
            "Epoch 31/100\n",
            "8/8 [==============================] - 8s 933ms/step - loss: 0.3298 - acc: 0.8776 - val_loss: 0.7767 - val_acc: 0.6953\n",
            "Epoch 32/100\n",
            "8/8 [==============================] - 9s 1s/step - loss: 0.2222 - acc: 0.9077 - val_loss: 1.6231 - val_acc: 0.6875\n",
            "Epoch 33/100\n",
            "8/8 [==============================] - 9s 1s/step - loss: 0.1994 - acc: 0.9188 - val_loss: 1.6424 - val_acc: 0.7227\n",
            "Epoch 34/100\n",
            "8/8 [==============================] - 8s 975ms/step - loss: 0.1546 - acc: 0.9310 - val_loss: 1.3071 - val_acc: 0.7500\n",
            "Epoch 35/100\n",
            "8/8 [==============================] - 9s 1s/step - loss: 0.1465 - acc: 0.9455 - val_loss: 2.2284 - val_acc: 0.6562\n",
            "Epoch 36/100\n",
            "8/8 [==============================] - 9s 1s/step - loss: 0.1271 - acc: 0.9512 - val_loss: 2.8712 - val_acc: 0.6094\n",
            "Epoch 37/100\n",
            "8/8 [==============================] - 9s 1s/step - loss: 0.1393 - acc: 0.9444 - val_loss: 1.4393 - val_acc: 0.7500\n",
            "Epoch 38/100\n",
            "8/8 [==============================] - 8s 948ms/step - loss: 0.1158 - acc: 0.9577 - val_loss: 1.4362 - val_acc: 0.7539\n",
            "Epoch 39/100\n",
            "8/8 [==============================] - 8s 1s/step - loss: 0.1292 - acc: 0.9477 - val_loss: 1.2352 - val_acc: 0.7695\n",
            "Epoch 40/100\n",
            "8/8 [==============================] - 8s 1s/step - loss: 0.1333 - acc: 0.9488 - val_loss: 1.9289 - val_acc: 0.6797\n",
            "Epoch 41/100\n",
            "8/8 [==============================] - 8s 1s/step - loss: 0.0651 - acc: 0.9785 - val_loss: 1.9186 - val_acc: 0.7109\n",
            "Epoch 42/100\n",
            "8/8 [==============================] - 8s 1s/step - loss: 0.0707 - acc: 0.9711 - val_loss: 2.2983 - val_acc: 0.7148\n",
            "Epoch 43/100\n",
            "8/8 [==============================] - 10s 1s/step - loss: 0.0578 - acc: 0.9778 - val_loss: 2.0864 - val_acc: 0.7461\n",
            "Epoch 44/100\n",
            "8/8 [==============================] - 7s 924ms/step - loss: 0.1458 - acc: 0.9455 - val_loss: 2.3976 - val_acc: 0.6758\n",
            "Epoch 45/100\n",
            "8/8 [==============================] - 8s 954ms/step - loss: 0.1637 - acc: 0.9444 - val_loss: 1.0104 - val_acc: 0.8164\n",
            "Epoch 46/100\n",
            "8/8 [==============================] - 8s 945ms/step - loss: 0.0874 - acc: 0.9722 - val_loss: 1.2041 - val_acc: 0.8086\n",
            "Epoch 47/100\n",
            "8/8 [==============================] - 8s 1s/step - loss: 0.1089 - acc: 0.9577 - val_loss: 1.0717 - val_acc: 0.8281\n",
            "Epoch 48/100\n",
            "8/8 [==============================] - 8s 1s/step - loss: 0.0650 - acc: 0.9733 - val_loss: 1.4568 - val_acc: 0.7852\n",
            "Epoch 49/100\n",
            "8/8 [==============================] - 8s 951ms/step - loss: 0.0649 - acc: 0.9733 - val_loss: 1.7530 - val_acc: 0.7656\n",
            "Epoch 50/100\n",
            "8/8 [==============================] - 9s 1s/step - loss: 0.0584 - acc: 0.9746 - val_loss: 1.5315 - val_acc: 0.8164\n",
            "Epoch 51/100\n",
            "8/8 [==============================] - 8s 1s/step - loss: 0.0386 - acc: 0.9822 - val_loss: 2.2196 - val_acc: 0.7617\n",
            "Epoch 52/100\n",
            "8/8 [==============================] - 9s 1s/step - loss: 0.0351 - acc: 0.9867 - val_loss: 1.2300 - val_acc: 0.8594\n",
            "Epoch 53/100\n",
            "8/8 [==============================] - 7s 906ms/step - loss: 0.0389 - acc: 0.9878 - val_loss: 1.3076 - val_acc: 0.8555\n",
            "Epoch 54/100\n",
            "8/8 [==============================] - 8s 1s/step - loss: 0.0402 - acc: 0.9878 - val_loss: 1.9574 - val_acc: 0.7852\n",
            "Epoch 55/100\n",
            "8/8 [==============================] - 8s 1s/step - loss: 0.0381 - acc: 0.9900 - val_loss: 2.2200 - val_acc: 0.7930\n",
            "Epoch 56/100\n",
            "8/8 [==============================] - 8s 946ms/step - loss: 0.0346 - acc: 0.9878 - val_loss: 2.7855 - val_acc: 0.7422\n",
            "Epoch 57/100\n",
            "8/8 [==============================] - 7s 1s/step - loss: 0.0313 - acc: 0.9922 - val_loss: 1.1847 - val_acc: 0.8555\n",
            "Epoch 58/100\n",
            "8/8 [==============================] - 8s 998ms/step - loss: 0.0344 - acc: 0.9912 - val_loss: 3.0122 - val_acc: 0.7109\n",
            "Epoch 59/100\n",
            "8/8 [==============================] - 8s 1s/step - loss: 0.0174 - acc: 0.9956 - val_loss: 1.8070 - val_acc: 0.8047\n",
            "Epoch 60/100\n",
            "8/8 [==============================] - 8s 1s/step - loss: 0.0308 - acc: 0.9956 - val_loss: 3.4143 - val_acc: 0.7188\n",
            "Epoch 61/100\n",
            "8/8 [==============================] - 8s 987ms/step - loss: 0.0285 - acc: 0.9922 - val_loss: 2.2326 - val_acc: 0.7852\n",
            "Epoch 62/100\n",
            "8/8 [==============================] - 8s 975ms/step - loss: 0.0183 - acc: 0.9944 - val_loss: 1.8436 - val_acc: 0.8203\n",
            "Epoch 63/100\n",
            "8/8 [==============================] - 8s 1s/step - loss: 0.0308 - acc: 0.9889 - val_loss: 1.9171 - val_acc: 0.8125\n",
            "Epoch 64/100\n",
            "8/8 [==============================] - 8s 1s/step - loss: 0.0321 - acc: 0.9911 - val_loss: 1.7434 - val_acc: 0.8164\n",
            "Epoch 65/100\n",
            "8/8 [==============================] - 7s 901ms/step - loss: 0.0276 - acc: 0.9911 - val_loss: 2.5896 - val_acc: 0.7852\n",
            "Epoch 66/100\n",
            "8/8 [==============================] - 8s 1s/step - loss: 0.0190 - acc: 0.9944 - val_loss: 3.8058 - val_acc: 0.7070\n",
            "Epoch 67/100\n",
            "8/8 [==============================] - 8s 1s/step - loss: 0.0311 - acc: 0.9922 - val_loss: 1.7893 - val_acc: 0.8281\n",
            "Epoch 68/100\n",
            "8/8 [==============================] - 8s 944ms/step - loss: 0.0179 - acc: 0.9956 - val_loss: 3.2534 - val_acc: 0.7383\n",
            "Epoch 69/100\n",
            "8/8 [==============================] - 8s 957ms/step - loss: 0.0248 - acc: 0.9922 - val_loss: 2.4478 - val_acc: 0.7852\n",
            "Epoch 70/100\n",
            "8/8 [==============================] - 7s 913ms/step - loss: 0.1189 - acc: 0.9588 - val_loss: 4.2980 - val_acc: 0.6914\n",
            "Epoch 71/100\n",
            "8/8 [==============================] - 8s 1s/step - loss: 0.1615 - acc: 0.9399 - val_loss: 0.6329 - val_acc: 0.9141\n",
            "Epoch 72/100\n",
            "8/8 [==============================] - 9s 1s/step - loss: 0.1719 - acc: 0.9277 - val_loss: 1.3776 - val_acc: 0.8047\n",
            "Epoch 73/100\n",
            "8/8 [==============================] - 7s 915ms/step - loss: 0.1056 - acc: 0.9633 - val_loss: 2.0151 - val_acc: 0.7227\n",
            "Epoch 74/100\n",
            "8/8 [==============================] - 8s 1s/step - loss: 0.0827 - acc: 0.9611 - val_loss: 2.4939 - val_acc: 0.7148\n",
            "Epoch 75/100\n",
            "8/8 [==============================] - 8s 1s/step - loss: 0.0593 - acc: 0.9800 - val_loss: 2.4657 - val_acc: 0.7422\n",
            "Epoch 76/100\n",
            "8/8 [==============================] - 9s 1s/step - loss: 0.0329 - acc: 0.9911 - val_loss: 1.9689 - val_acc: 0.8086\n",
            "Epoch 77/100\n",
            "8/8 [==============================] - 7s 920ms/step - loss: 0.0328 - acc: 0.9889 - val_loss: 1.7584 - val_acc: 0.8125\n",
            "Epoch 78/100\n",
            "8/8 [==============================] - 8s 1s/step - loss: 0.0559 - acc: 0.9822 - val_loss: 1.4026 - val_acc: 0.8477\n",
            "Epoch 79/100\n",
            "8/8 [==============================] - 8s 1s/step - loss: 0.0568 - acc: 0.9778 - val_loss: 2.5041 - val_acc: 0.7422\n",
            "Epoch 80/100\n",
            "8/8 [==============================] - 9s 1s/step - loss: 0.0428 - acc: 0.9855 - val_loss: 1.8245 - val_acc: 0.7930\n",
            "Epoch 81/100\n",
            "8/8 [==============================] - 8s 992ms/step - loss: 0.0453 - acc: 0.9844 - val_loss: 2.1455 - val_acc: 0.7891\n",
            "Epoch 82/100\n",
            "8/8 [==============================] - 7s 918ms/step - loss: 0.0367 - acc: 0.9889 - val_loss: 1.2615 - val_acc: 0.8594\n",
            "Epoch 83/100\n",
            "8/8 [==============================] - 9s 1s/step - loss: 0.1401 - acc: 0.9511 - val_loss: 1.3032 - val_acc: 0.8516\n",
            "Epoch 84/100\n",
            "8/8 [==============================] - 9s 1s/step - loss: 0.0676 - acc: 0.9722 - val_loss: 1.8273 - val_acc: 0.7656\n",
            "Epoch 85/100\n",
            "8/8 [==============================] - 8s 966ms/step - loss: 0.0513 - acc: 0.9844 - val_loss: 0.6409 - val_acc: 0.8984\n",
            "Epoch 86/100\n",
            "8/8 [==============================] - 8s 950ms/step - loss: 0.0502 - acc: 0.9800 - val_loss: 1.8173 - val_acc: 0.8164\n",
            "Epoch 87/100\n",
            "8/8 [==============================] - 8s 960ms/step - loss: 0.0177 - acc: 0.9956 - val_loss: 1.3428 - val_acc: 0.8672\n",
            "Epoch 88/100\n",
            "8/8 [==============================] - 8s 1s/step - loss: 0.0350 - acc: 0.9922 - val_loss: 1.6410 - val_acc: 0.8633\n",
            "Epoch 89/100\n",
            "8/8 [==============================] - 9s 1s/step - loss: 0.0263 - acc: 0.9889 - val_loss: 1.2997 - val_acc: 0.8828\n",
            "Epoch 90/100\n",
            "8/8 [==============================] - 8s 943ms/step - loss: 0.0252 - acc: 0.9911 - val_loss: 1.4298 - val_acc: 0.8750\n",
            "Epoch 91/100\n",
            "8/8 [==============================] - 8s 902ms/step - loss: 0.0246 - acc: 0.9922 - val_loss: 1.5072 - val_acc: 0.8750\n",
            "Epoch 92/100\n",
            "8/8 [==============================] - 8s 1s/step - loss: 0.0159 - acc: 0.9944 - val_loss: 1.6736 - val_acc: 0.8555\n",
            "Epoch 93/100\n",
            "8/8 [==============================] - 8s 1s/step - loss: 0.0229 - acc: 0.9933 - val_loss: 1.4605 - val_acc: 0.8750\n",
            "Epoch 94/100\n",
            "8/8 [==============================] - 8s 1s/step - loss: 0.0187 - acc: 0.9967 - val_loss: 1.6641 - val_acc: 0.8516\n",
            "Epoch 95/100\n",
            "8/8 [==============================] - 7s 919ms/step - loss: 0.0176 - acc: 0.9944 - val_loss: 1.9729 - val_acc: 0.8164\n",
            "Epoch 96/100\n",
            "8/8 [==============================] - 8s 1s/step - loss: 0.0076 - acc: 0.9978 - val_loss: 1.5718 - val_acc: 0.8438\n",
            "Epoch 97/100\n",
            "8/8 [==============================] - 9s 1s/step - loss: 0.0123 - acc: 0.9961 - val_loss: 2.1249 - val_acc: 0.8086\n",
            "Epoch 98/100\n",
            "8/8 [==============================] - 7s 912ms/step - loss: 0.0176 - acc: 0.9956 - val_loss: 1.4615 - val_acc: 0.8633\n",
            "Epoch 99/100\n",
            "8/8 [==============================] - 8s 1s/step - loss: 0.0099 - acc: 0.9978 - val_loss: 1.8345 - val_acc: 0.8242\n",
            "Epoch 100/100\n",
            "8/8 [==============================] - 8s 1s/step - loss: 0.0174 - acc: 0.9922 - val_loss: 1.5639 - val_acc: 0.8516\n"
          ]
        }
      ],
      "source": [
        "history = model.fit(\n",
        "      train_generator,\n",
        "      steps_per_epoch=8,\n",
        "      epochs=100,\n",
        "      verbose=1,\n",
        "      validation_data=validation_generator)"
      ]
    },
    {
      "cell_type": "markdown",
      "metadata": {
        "id": "o6vSHzPR2ghH"
      },
      "source": [
        "## Try Running the Model Again\n",
        "\n",
        "Can you confuse it this time? Or did the extra data augmentation help the model generalize? What do you think it was about your confusing examples that are no longer confusing (or what is still confusing)?"
      ]
    },
    {
      "cell_type": "code",
      "execution_count": 13,
      "metadata": {
        "id": "DoWp43WxJDNT",
        "outputId": "35a284f3-2797-4232-98c7-a6aebcdde9b1",
        "colab": {
          "base_uri": "https://localhost:8080/",
          "height": 142
        }
      },
      "outputs": [
        {
          "output_type": "display_data",
          "data": {
            "text/plain": [
              "<IPython.core.display.HTML object>"
            ],
            "text/html": [
              "\n",
              "     <input type=\"file\" id=\"files-a33dae99-c9be-4f66-b18d-02bb6e0e2401\" name=\"files[]\" multiple disabled\n",
              "        style=\"border:none\" />\n",
              "     <output id=\"result-a33dae99-c9be-4f66-b18d-02bb6e0e2401\">\n",
              "      Upload widget is only available when the cell has been executed in the\n",
              "      current browser session. Please rerun this cell to enable.\n",
              "      </output>\n",
              "      <script>// Copyright 2017 Google LLC\n",
              "//\n",
              "// Licensed under the Apache License, Version 2.0 (the \"License\");\n",
              "// you may not use this file except in compliance with the License.\n",
              "// You may obtain a copy of the License at\n",
              "//\n",
              "//      http://www.apache.org/licenses/LICENSE-2.0\n",
              "//\n",
              "// Unless required by applicable law or agreed to in writing, software\n",
              "// distributed under the License is distributed on an \"AS IS\" BASIS,\n",
              "// WITHOUT WARRANTIES OR CONDITIONS OF ANY KIND, either express or implied.\n",
              "// See the License for the specific language governing permissions and\n",
              "// limitations under the License.\n",
              "\n",
              "/**\n",
              " * @fileoverview Helpers for google.colab Python module.\n",
              " */\n",
              "(function(scope) {\n",
              "function span(text, styleAttributes = {}) {\n",
              "  const element = document.createElement('span');\n",
              "  element.textContent = text;\n",
              "  for (const key of Object.keys(styleAttributes)) {\n",
              "    element.style[key] = styleAttributes[key];\n",
              "  }\n",
              "  return element;\n",
              "}\n",
              "\n",
              "// Max number of bytes which will be uploaded at a time.\n",
              "const MAX_PAYLOAD_SIZE = 100 * 1024;\n",
              "\n",
              "function _uploadFiles(inputId, outputId) {\n",
              "  const steps = uploadFilesStep(inputId, outputId);\n",
              "  const outputElement = document.getElementById(outputId);\n",
              "  // Cache steps on the outputElement to make it available for the next call\n",
              "  // to uploadFilesContinue from Python.\n",
              "  outputElement.steps = steps;\n",
              "\n",
              "  return _uploadFilesContinue(outputId);\n",
              "}\n",
              "\n",
              "// This is roughly an async generator (not supported in the browser yet),\n",
              "// where there are multiple asynchronous steps and the Python side is going\n",
              "// to poll for completion of each step.\n",
              "// This uses a Promise to block the python side on completion of each step,\n",
              "// then passes the result of the previous step as the input to the next step.\n",
              "function _uploadFilesContinue(outputId) {\n",
              "  const outputElement = document.getElementById(outputId);\n",
              "  const steps = outputElement.steps;\n",
              "\n",
              "  const next = steps.next(outputElement.lastPromiseValue);\n",
              "  return Promise.resolve(next.value.promise).then((value) => {\n",
              "    // Cache the last promise value to make it available to the next\n",
              "    // step of the generator.\n",
              "    outputElement.lastPromiseValue = value;\n",
              "    return next.value.response;\n",
              "  });\n",
              "}\n",
              "\n",
              "/**\n",
              " * Generator function which is called between each async step of the upload\n",
              " * process.\n",
              " * @param {string} inputId Element ID of the input file picker element.\n",
              " * @param {string} outputId Element ID of the output display.\n",
              " * @return {!Iterable<!Object>} Iterable of next steps.\n",
              " */\n",
              "function* uploadFilesStep(inputId, outputId) {\n",
              "  const inputElement = document.getElementById(inputId);\n",
              "  inputElement.disabled = false;\n",
              "\n",
              "  const outputElement = document.getElementById(outputId);\n",
              "  outputElement.innerHTML = '';\n",
              "\n",
              "  const pickedPromise = new Promise((resolve) => {\n",
              "    inputElement.addEventListener('change', (e) => {\n",
              "      resolve(e.target.files);\n",
              "    });\n",
              "  });\n",
              "\n",
              "  const cancel = document.createElement('button');\n",
              "  inputElement.parentElement.appendChild(cancel);\n",
              "  cancel.textContent = 'Cancel upload';\n",
              "  const cancelPromise = new Promise((resolve) => {\n",
              "    cancel.onclick = () => {\n",
              "      resolve(null);\n",
              "    };\n",
              "  });\n",
              "\n",
              "  // Wait for the user to pick the files.\n",
              "  const files = yield {\n",
              "    promise: Promise.race([pickedPromise, cancelPromise]),\n",
              "    response: {\n",
              "      action: 'starting',\n",
              "    }\n",
              "  };\n",
              "\n",
              "  cancel.remove();\n",
              "\n",
              "  // Disable the input element since further picks are not allowed.\n",
              "  inputElement.disabled = true;\n",
              "\n",
              "  if (!files) {\n",
              "    return {\n",
              "      response: {\n",
              "        action: 'complete',\n",
              "      }\n",
              "    };\n",
              "  }\n",
              "\n",
              "  for (const file of files) {\n",
              "    const li = document.createElement('li');\n",
              "    li.append(span(file.name, {fontWeight: 'bold'}));\n",
              "    li.append(span(\n",
              "        `(${file.type || 'n/a'}) - ${file.size} bytes, ` +\n",
              "        `last modified: ${\n",
              "            file.lastModifiedDate ? file.lastModifiedDate.toLocaleDateString() :\n",
              "                                    'n/a'} - `));\n",
              "    const percent = span('0% done');\n",
              "    li.appendChild(percent);\n",
              "\n",
              "    outputElement.appendChild(li);\n",
              "\n",
              "    const fileDataPromise = new Promise((resolve) => {\n",
              "      const reader = new FileReader();\n",
              "      reader.onload = (e) => {\n",
              "        resolve(e.target.result);\n",
              "      };\n",
              "      reader.readAsArrayBuffer(file);\n",
              "    });\n",
              "    // Wait for the data to be ready.\n",
              "    let fileData = yield {\n",
              "      promise: fileDataPromise,\n",
              "      response: {\n",
              "        action: 'continue',\n",
              "      }\n",
              "    };\n",
              "\n",
              "    // Use a chunked sending to avoid message size limits. See b/62115660.\n",
              "    let position = 0;\n",
              "    do {\n",
              "      const length = Math.min(fileData.byteLength - position, MAX_PAYLOAD_SIZE);\n",
              "      const chunk = new Uint8Array(fileData, position, length);\n",
              "      position += length;\n",
              "\n",
              "      const base64 = btoa(String.fromCharCode.apply(null, chunk));\n",
              "      yield {\n",
              "        response: {\n",
              "          action: 'append',\n",
              "          file: file.name,\n",
              "          data: base64,\n",
              "        },\n",
              "      };\n",
              "\n",
              "      let percentDone = fileData.byteLength === 0 ?\n",
              "          100 :\n",
              "          Math.round((position / fileData.byteLength) * 100);\n",
              "      percent.textContent = `${percentDone}% done`;\n",
              "\n",
              "    } while (position < fileData.byteLength);\n",
              "  }\n",
              "\n",
              "  // All done.\n",
              "  yield {\n",
              "    response: {\n",
              "      action: 'complete',\n",
              "    }\n",
              "  };\n",
              "}\n",
              "\n",
              "scope.google = scope.google || {};\n",
              "scope.google.colab = scope.google.colab || {};\n",
              "scope.google.colab._files = {\n",
              "  _uploadFiles,\n",
              "  _uploadFilesContinue,\n",
              "};\n",
              "})(self);\n",
              "</script> "
            ]
          },
          "metadata": {}
        },
        {
          "output_type": "stream",
          "name": "stdout",
          "text": [
            "Saving hum4.jpeg to hum4 (1).jpeg\n",
            "1/1 [==============================] - 0s 19ms/step\n",
            "[[0.00479161]]\n",
            "[0.00479161]\n",
            "hum4 (1).jpeg is a horse\n"
          ]
        }
      ],
      "source": [
        "import numpy as np\n",
        "from google.colab import files\n",
        "from tensorflow.keras.utils import load_img, img_to_array\n",
        "\n",
        "uploaded = files.upload()\n",
        "\n",
        "for fn in uploaded.keys():\n",
        "\n",
        "  # predicting images\n",
        "  path = '/content/' + fn\n",
        "  img = load_img(path, target_size=(100, 100))\n",
        "  x = img_to_array(img)\n",
        "  x = x / 255.0\n",
        "  x = np.expand_dims(x, axis=0)\n",
        "\n",
        "  image_tensor = np.vstack([x])\n",
        "  classes = model.predict(image_tensor)\n",
        "  print(classes)\n",
        "  print(classes[0])\n",
        "  if classes[0]>0.5:\n",
        "    print(fn + \" is a human\")\n",
        "  else:\n",
        "    print(fn + \" is a horse\")"
      ]
    },
    {
      "cell_type": "markdown",
      "metadata": {
        "id": "DzVJDupFL2xm"
      },
      "source": [
        "## Finally again lets visualize some of the layers for intuition"
      ]
    },
    {
      "cell_type": "code",
      "execution_count": 14,
      "metadata": {
        "id": "xV_9ZT7CL2xn",
        "outputId": "42cfa8a2-d578-4ee7-e128-4cd5988270cb",
        "colab": {
          "base_uri": "https://localhost:8080/",
          "height": 1000
        }
      },
      "outputs": [
        {
          "output_type": "stream",
          "name": "stdout",
          "text": [
            "1/1 [==============================] - 0s 92ms/step\n"
          ]
        },
        {
          "output_type": "stream",
          "name": "stderr",
          "text": [
            "<ipython-input-14-b8d57963b6aa>:49: RuntimeWarning: invalid value encountered in divide\n",
            "  x /= x.std()\n"
          ]
        },
        {
          "output_type": "display_data",
          "data": {
            "text/plain": [
              "<Figure size 2000x400 with 1 Axes>"
            ],
            "image/png": "[encoded data removed]"
          },
          "metadata": {}
        },
        {
          "output_type": "display_data",
          "data": {
            "text/plain": [
              "<Figure size 2000x400 with 1 Axes>"
            ],
            "image/png": "[encoded data removed]"
          },
          "metadata": {}
        },
        {
          "output_type": "display_data",
          "data": {
            "text/plain": [
              "<Figure size 2000x400 with 1 Axes>"
            ],
            "image/png": "[encoded data removed]"
          },
          "metadata": {}
        },
        {
          "output_type": "display_data",
          "data": {
            "text/plain": [
              "<Figure size 2000x400 with 1 Axes>"
            ],
            "image/png": "[encoded data removed]"
          },
          "metadata": {}
        },
        {
          "output_type": "display_data",
          "data": {
            "text/plain": [
              "<Figure size 2000x400 with 1 Axes>"
            ],
            "image/png": "[encoded data removed]"
          },
          "metadata": {}
        },
        {
          "output_type": "display_data",
          "data": {
            "text/plain": [
              "<Figure size 2000x400 with 1 Axes>"
            ],
            "image/png": "[encoded data removed]"
          },
          "metadata": {}
        },
        {
          "output_type": "display_data",
          "data": {
            "text/plain": [
              "<Figure size 2000x400 with 1 Axes>"
            ],
            "image/png": "[encoded data removed]"
          },
          "metadata": {}
        }
      ],
      "source": [
        "import random\n",
        "import numpy as np\n",
        "from tensorflow.keras.preprocessing.image import img_to_array, load_img\n",
        "\n",
        "%matplotlib inline\n",
        "\n",
        "import matplotlib.pyplot as plt\n",
        "import matplotlib.image as mpimg\n",
        "\n",
        "# Let's define a new Model that will take an image as input, and will output\n",
        "# intermediate representations for all layers in the previous model after the first.\n",
        "successive_outputs = [layer.output for layer in model.layers[1:]]\n",
        "visualization_model = tf.keras.models.Model(inputs = model.input, outputs = successive_outputs)\n",
        "# Let's prepare a random input image from the training set.\n",
        "horse_img_files = [os.path.join(train_horse_dir, f) for f in train_horse_names]\n",
        "human_img_files = [os.path.join(train_human_dir, f) for f in train_human_names]\n",
        "img_path = random.choice(horse_img_files + human_img_files)\n",
        "# uncomment the following line if you want to pick the Xth human file manually\n",
        "# img_path = human_img_files[0]\n",
        "\n",
        "img = load_img(img_path, target_size=(100, 100))  # this is a PIL image\n",
        "x = img_to_array(img)  # Numpy array with shape (100, 100, 3)\n",
        "x = x.reshape((1,) + x.shape)  # Numpy array with shape (1, 100, 100, 3)\n",
        "\n",
        "# Rescale by 1/255\n",
        "x /= 255.0\n",
        "\n",
        "# Let's run our image through our network, thus obtaining all\n",
        "# intermediate representations for this image.\n",
        "successive_feature_maps = visualization_model.predict(x)\n",
        "\n",
        "# These are the names of the layers, so can have them as part of our plot\n",
        "layer_names = [layer.name for layer in model.layers[1:]]\n",
        "\n",
        "# Now let's display our representations\n",
        "for layer_name, feature_map in zip(layer_names, successive_feature_maps):\n",
        "  if len(feature_map.shape) == 4:\n",
        "    # Just do this for the conv / maxpool layers, not the fully-connected layers\n",
        "    n_features = feature_map.shape[-1]  # number of features in feature map\n",
        "    n_features = min(n_features,5) # limit to 5 features for easier viewing\n",
        "    # The feature map has shape (1, size, size, n_features)\n",
        "    size = feature_map.shape[1]\n",
        "    # We will tile our images in this matrix\n",
        "    display_grid = np.zeros((size, size * n_features))\n",
        "    for i in range(n_features):\n",
        "      # Postprocess the feature to make it visually palatable\n",
        "      x = feature_map[0, :, :, i]\n",
        "      x -= x.mean()\n",
        "      x /= x.std()\n",
        "      x *= 64\n",
        "      x += 128\n",
        "      x = np.clip(x, 0, 255).astype('uint8')\n",
        "      # We'll tile each filter into this big horizontal grid\n",
        "      display_grid[:, i * size : (i + 1) * size] = x\n",
        "    # Display the grid\n",
        "    scale = 20. / n_features\n",
        "    plt.figure(figsize=(scale * n_features, scale))\n",
        "    #plt.title(layer_name)\n",
        "    plt.grid(False)\n",
        "    plt.imshow(display_grid, aspect='auto', cmap='viridis')"
      ]
    },
    {
      "cell_type": "markdown",
      "metadata": {
        "id": "j4IBgYCYooGD"
      },
      "source": [
        "## Clean Up\n",
        "\n",
        "Before running the next exercise, run the following cell to terminate the kernel and free memory resources:"
      ]
    },
    {
      "cell_type": "code",
      "execution_count": null,
      "metadata": {
        "id": "651IgjLyo-Jx"
      },
      "outputs": [],
      "source": [
        "import os, signal\n",
        "os.kill(os.getpid(), signal.SIGKILL)"
      ]
    }
  ],
  "metadata": {
    "accelerator": "GPU",
    "colab": {
      "machine_shape": "hm",
      "name": "2-4-6-HorseOrHumanWithAugmentation",
      "provenance": []
    },
    "kernelspec": {
      "display_name": "Python 3",
      "language": "python",
      "name": "python3"
    },
    "language_info": {
      "codemirror_mode": {
        "name": "ipython",
        "version": 3
      },
      "file_extension": ".py",
      "mimetype": "text/x-python",
      "name": "python",
      "nbconvert_exporter": "python",
      "pygments_lexer": "ipython3",
      "version": "3.6.9"
    }
  },
  "nbformat": 4,
  "nbformat_minor": 0
}